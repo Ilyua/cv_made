{
 "cells": [
  {
   "cell_type": "code",
   "execution_count": 1,
   "metadata": {},
   "outputs": [],
   "source": [
    "from tqdm import tqdm"
   ]
  },
  {
   "cell_type": "code",
   "execution_count": null,
   "metadata": {},
   "outputs": [],
   "source": []
  },
  {
   "cell_type": "code",
   "execution_count": null,
   "metadata": {},
   "outputs": [],
   "source": [
    "x0 = np.arange(-340, 340, 100)\n",
    "y0 = np.arange(-340, 340, 100)\n",
    "scale = np.arange(2, 680, 200)\n",
    "n=0\n",
    "number = np.zeros([len(scale),len(y0),len(x0)])\n",
    "Sum = 501\n",
    "for n in tqdm(range(100),desc='n iterating..'):\n",
    "    for k in tqdm(range(len(x0)),desc='main cycle'):\n",
    "        for j in range(len(y0)):\n",
    "            for i in range(len(scale)):\n",
    "                while Sum >=0:\n",
    "                    x = np.random.normal(x0[k], scale[i])\n",
    "                    y = np.random.normal(y0[j], scale[i])\n",
    "                    Sum -= win(x,y)\n",
    "                    number[i,j,k] += 1               \n",
    "    n += 1\n",
    "print('ok')"
   ]
  }
 ],
 "metadata": {
  "kernelspec": {
   "display_name": "Python 3",
   "language": "python",
   "name": "python3"
  },
  "language_info": {
   "codemirror_mode": {
    "name": "ipython",
    "version": 3
   },
   "file_extension": ".py",
   "mimetype": "text/x-python",
   "name": "python",
   "nbconvert_exporter": "python",
   "pygments_lexer": "ipython3",
   "version": "3.8.5"
  }
 },
 "nbformat": 4,
 "nbformat_minor": 4
}
